{
 "cells": [
  {
   "cell_type": "code",
   "execution_count": 28,
   "metadata": {},
   "outputs": [],
   "source": [
    "from matplotlib import pyplot as plt\n",
    "import numpy as np \n",
    "import math\n",
    "import matplotlib.pyplot as plt\n",
    "%matplotlib inline"
   ]
  },
  {
   "cell_type": "markdown",
   "metadata": {},
   "source": [
    "### Defined by me"
   ]
  },
  {
   "cell_type": "code",
   "execution_count": 278,
   "metadata": {},
   "outputs": [],
   "source": [
    "def sigmoid(s):\n",
    "    return 1 / (1 + np.exp(-s))"
   ]
  },
  {
   "cell_type": "code",
   "execution_count": 405,
   "metadata": {},
   "outputs": [],
   "source": [
    "def logistic_regression(data, label, max_iter, learning_rate):\n",
    "    '''\n",
    "    The logistic regression classifier function.\n",
    "\n",
    "    Args:\n",
    "    data: train data with shape (1561, 3), which means 1561 samples and \n",
    "          each sample has 3 features.(1, symmetry, average internsity)\n",
    "          \n",
    "    label: train data's label with shape (1561,1). \n",
    "           1 for digit number 1 and -1 for digit number 5.\n",
    "           \n",
    "    max_iter: max iteration numbers\n",
    "    \n",
    "    learning_rate: learning rate for weight update\n",
    "\n",
    "    Returns:\n",
    "        w: the seperater with shape (3, 1). You must initilize it with w = np.zeros((d,1))\n",
    "    '''\n",
    "    N,m = data.shape\n",
    "    w = np.zeros((m,1))\n",
    "    # Compute the Gradient\n",
    "    for t in range(max_iter):\n",
    "        g = 0\n",
    "        for n in range(N):\n",
    "            g = (label[n]*data[n]*sigmoid(-label[0]*np.dot(data[0],w))) + g\n",
    "        g = (-1/N)*g\n",
    "        w = w.T + (learning_rate * -g)\n",
    "        w = w.T\n",
    "    print(w)    \n",
    "    return w"
   ]
  },
  {
   "cell_type": "code",
   "execution_count": 412,
   "metadata": {},
   "outputs": [],
   "source": [
    "def accuracy(x, y, w):\n",
    "    '''\n",
    "    This function is used to compute accuracy of a logsitic regression model.\n",
    "    \n",
    "    Args:\n",
    "    x: input data with shape (n, d), where n represents total data samples and d represents\n",
    "        total feature numbers of a certain data sample.\n",
    "        \n",
    "    y: corresponding label of x with shape(n, 1), where n represents total data samples.\n",
    "    \n",
    "    w: the seperator learnt from logistic regression function with shape (d, 1),\n",
    "        where d represents total feature numbers of a certain data sample.\n",
    "\n",
    "    Return \n",
    "        accuracy: total percents of correctly classified samples. Set the threshold as 0.5,\n",
    "        which means, if the predicted probability > 0.5, classify as 1; Otherwise, classify as -1.\n",
    "    '''"
   ]
  },
  {
   "cell_type": "markdown",
   "metadata": {},
   "source": [
    "### Defined by Professor"
   ]
  },
  {
   "cell_type": "code",
   "execution_count": 406,
   "metadata": {},
   "outputs": [],
   "source": [
    "#Use for testing the training and testing processes of a model\n",
    "def train_test_a_model(modelname, train_data, train_label, test_data, test_label, max_iter, learning_rate):\n",
    "    print(modelname+\" testing...\")\n",
    "    \n",
    "    # max iteration test cases \n",
    "    for i, m_iter in enumerate(max_iter):\n",
    "        w = logistic_regression(train_data, train_label, m_iter, learning_rate[1])\n",
    "        Ain, Aout = accuracy(train_data, train_label, w), accuracy(test_data, test_label, w)\n",
    "        print(\"max iteration testcase%d: Train accuracy: %f, Test accuracy: %f\"%(i, Ain, Aout))\n",
    "    # learning rate test cases\n",
    "    for i, l_rate in enumerate(learning_rate):\n",
    "        w = logistic_regression(train_data, train_label, max_iter[3], l_rate)\n",
    "        Ain, Aout = accuracy(train_data, train_label, w), accuracy(test_data, test_label, w)\n",
    "        print(\"learning rate testcase%d: Train accuracy: %f, Test accuracy: %f\"%(i, Ain, Aout))\n",
    "    print(modelname+\" test done.\")"
   ]
  },
  {
   "cell_type": "code",
   "execution_count": 407,
   "metadata": {},
   "outputs": [],
   "source": [
    "def extract_feature(image):\n",
    "    image = np.reshape(image, (16, 16))\n",
    "    flip_image = np.flip(image, 1)\n",
    "    diff = abs(image-flip_image)\n",
    "    sys  = -sum(sum(diff))/256\n",
    "    intense = sum(sum(image))/256\n",
    "    return sys, intense"
   ]
  },
  {
   "cell_type": "code",
   "execution_count": 408,
   "metadata": {},
   "outputs": [],
   "source": [
    "def load_data(dataloc):\n",
    "    data = np.loadtxt(dataloc, unpack='true')\n",
    "    data = np.transpose(data, (1,0))\n",
    "    return data"
   ]
  },
  {
   "cell_type": "code",
   "execution_count": 409,
   "metadata": {},
   "outputs": [],
   "source": [
    "def load_features(dataloc):\n",
    "    data = load_data(dataloc)\n",
    "    n, _ = data.shape\n",
    "    data_set = []\n",
    "    for i in range(n):\n",
    "        label = 1 if data[i, 0]==1 else -1\n",
    "        image = data[i, 1:]\n",
    "        sys, intense = extract_feature(image)\n",
    "        data_set.append([label, 1, sys, intense])\n",
    "    return np.array(data_set)[:,1:], np.array(data_set)[:,0]"
   ]
  },
  {
   "cell_type": "code",
   "execution_count": 410,
   "metadata": {},
   "outputs": [],
   "source": [
    "def test_logistic_regression():\n",
    "    max_iter = [100, 200, 500,1000]\n",
    "    learning_rate = [0.1, 0.2, 0.5]\n",
    "    traindataloc,testdataloc = \"../data/train.txt\", \"../data/test.txt\"\n",
    "    train_data,train_label = load_features(traindataloc)\n",
    "    test_data, test_label = load_features(testdataloc)\n",
    "    try:\n",
    "        train_test_a_model(\"logistic regression\", train_data, train_label, test_data,test_label, max_iter, learning_rate)\n",
    "    except:\n",
    "        print(\"Please finish logistic_regression() and cross_entropy_error() functions \\n\\\n",
    "        before you run the test_logistic_regression() function.\\n\")"
   ]
  },
  {
   "cell_type": "code",
   "execution_count": 411,
   "metadata": {},
   "outputs": [
    {
     "name": "stdout",
     "output_type": "stream",
     "text": [
      "logistic regression testing...\n",
      "[[ 4.63164024]\n",
      " [ 1.94399222]\n",
      " [-4.86285452]]\n",
      "Please finish logistic_regression() and cross_entropy_error() functions \n",
      "        before you run the test_logistic_regression() function.\n",
      "\n"
     ]
    }
   ],
   "source": [
    "test_logistic_regression()"
   ]
  },
  {
   "cell_type": "code",
   "execution_count": null,
   "metadata": {},
   "outputs": [],
   "source": []
  },
  {
   "cell_type": "code",
   "execution_count": null,
   "metadata": {},
   "outputs": [],
   "source": []
  }
 ],
 "metadata": {
  "kernelspec": {
   "display_name": "Python 3",
   "language": "python",
   "name": "python3"
  },
  "language_info": {
   "codemirror_mode": {
    "name": "ipython",
    "version": 3
   },
   "file_extension": ".py",
   "mimetype": "text/x-python",
   "name": "python",
   "nbconvert_exporter": "python",
   "pygments_lexer": "ipython3",
   "version": "3.7.4"
  }
 },
 "nbformat": 4,
 "nbformat_minor": 2
}

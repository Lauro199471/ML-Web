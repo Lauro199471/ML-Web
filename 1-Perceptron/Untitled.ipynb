{
 "cells": [
  {
   "cell_type": "code",
   "execution_count": 1,
   "metadata": {},
   "outputs": [],
   "source": [
    "import numpy as np\n",
    "import random"
   ]
  },
  {
   "cell_type": "markdown",
   "metadata": {},
   "source": [
    "# Activation Function"
   ]
  },
  {
   "cell_type": "code",
   "execution_count": 2,
   "metadata": {},
   "outputs": [],
   "source": [
    "def sign(n):\n",
    "    if(n >= 0):\n",
    "        return 1\n",
    "    else:\n",
    "        return -1"
   ]
  },
  {
   "cell_type": "code",
   "execution_count": 3,
   "metadata": {},
   "outputs": [
    {
     "name": "stdout",
     "output_type": "stream",
     "text": [
      "-1\n"
     ]
    }
   ],
   "source": [
    "print(sign(-.01))"
   ]
  },
  {
   "cell_type": "markdown",
   "metadata": {},
   "source": [
    "# Perpectron"
   ]
  },
  {
   "cell_type": "code",
   "execution_count": 4,
   "metadata": {},
   "outputs": [],
   "source": [
    "class Perpectron:\n",
    "    weights = []\n",
    "    \n",
    "    # default constructor\n",
    "    def __init__(self, inputs):\n",
    "        # Initialize weights randomly\n",
    "        for x in range(0, len(inputs)):\n",
    "            self.weights.append(random.randint(-5,5))\n",
    "    \n",
    "    def guess(self, inputs):\n",
    "        sumOfInputs = 0\n",
    "        for i in  range(0, len(inputs)):\n",
    "            sumOfInputs = sumOfInputs + (self.weights[i]*inputs[i])\n",
    "        return sign(sumOfInputs)"
   ]
  },
  {
   "cell_type": "code",
   "execution_count": 5,
   "metadata": {},
   "outputs": [
    {
     "data": {
      "text/plain": [
       "-1"
      ]
     },
     "execution_count": 5,
     "metadata": {},
     "output_type": "execute_result"
    }
   ],
   "source": [
    "inputS = [2,3,3]\n",
    "p1 = Perpectron(inputS)\n",
    "p1.guess(inputS)"
   ]
  },
  {
   "cell_type": "markdown",
   "metadata": {},
   "source": [
    "# Make Point"
   ]
  },
  {
   "cell_type": "code",
   "execution_count": 6,
   "metadata": {},
   "outputs": [],
   "source": [
    "class Point:    \n",
    "    # default constructor\n",
    "    def __init__(self):\n",
    "        self.x = random.randrange(0,10)\n",
    "        self.y = random.randrange(0,10)\n",
    "        if(self.x > self.y):\n",
    "            self.label = 'Class 1'\n",
    "        else:\n",
    "            self.label = 'Class 2'\n",
    "    \n",
    "    def getLabel(self):\n",
    "            return self.label\n",
    "        \n",
    "    def getXY(self):\n",
    "        return self.x,self.y\n",
    "    \n",
    "    def getX(self):\n",
    "        return self.x\n",
    "    \n",
    "    def getY(self):\n",
    "        return self.y\n",
    "    "
   ]
  },
  {
   "cell_type": "code",
   "execution_count": 7,
   "metadata": {},
   "outputs": [
    {
     "name": "stdout",
     "output_type": "stream",
     "text": [
      "(1, 3)\n",
      "Class 2\n"
     ]
    }
   ],
   "source": [
    "x = Point()\n",
    "\n",
    "print(x.getXY())\n",
    "print(x.getLabel())"
   ]
  },
  {
   "cell_type": "markdown",
   "metadata": {},
   "source": [
    "# Make Data"
   ]
  },
  {
   "cell_type": "code",
   "execution_count": 8,
   "metadata": {},
   "outputs": [],
   "source": [
    "my_data = []\n",
    "\n",
    "for i in range(15):\n",
    "    my_data.append(Point())"
   ]
  },
  {
   "cell_type": "code",
   "execution_count": 9,
   "metadata": {},
   "outputs": [
    {
     "name": "stdout",
     "output_type": "stream",
     "text": [
      "(6, 5)\n",
      "(4, 0)\n",
      "(6, 4)\n",
      "(4, 3)\n",
      "(9, 0)\n"
     ]
    }
   ],
   "source": [
    "print(my_data[0].getXY())\n",
    "print(my_data[1].getXY())\n",
    "print(my_data[2].getXY())\n",
    "print(my_data[3].getXY())\n",
    "print(my_data[4].getXY())\n"
   ]
  },
  {
   "cell_type": "markdown",
   "metadata": {},
   "source": [
    "# Graph Points"
   ]
  },
  {
   "cell_type": "code",
   "execution_count": 12,
   "metadata": {},
   "outputs": [
    {
     "data": {
      "image/png": "[encoded data removed]",
      "text/plain": [
       "<Figure size 432x288 with 1 Axes>"
      ]
     },
     "metadata": {
      "needs_background": "light"
     },
     "output_type": "display_data"
    }
   ],
   "source": [
    "import numpy as np\n",
    "import matplotlib.pyplot as plt\n",
    "\n",
    "x=[];y=[]\n",
    "for i in my_data:\n",
    "    x.append(i.getX())\n",
    "    y.append(i.getY())\n",
    "\n",
    "if():\n",
    "    plt.scatter(x, y, marker='s')\n",
    "else:\n",
    "    \n",
    "plt.show()"
   ]
  },
  {
   "cell_type": "code",
   "execution_count": null,
   "metadata": {},
   "outputs": [],
   "source": []
  }
 ],
 "metadata": {
  "kernelspec": {
   "display_name": "Python 3",
   "language": "python",
   "name": "python3"
  },
  "language_info": {
   "codemirror_mode": {
    "name": "ipython",
    "version": 3
   },
   "file_extension": ".py",
   "mimetype": "text/x-python",
   "name": "python",
   "nbconvert_exporter": "python",
   "pygments_lexer": "ipython3",
   "version": "3.7.3"
  }
 },
 "nbformat": 4,
 "nbformat_minor": 2
}

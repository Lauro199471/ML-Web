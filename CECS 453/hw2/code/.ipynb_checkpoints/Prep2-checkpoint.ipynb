{
 "cells": [
  {
   "cell_type": "code",
   "execution_count": 1,
   "metadata": {},
   "outputs": [],
   "source": [
    "from matplotlib import pyplot as plt\n",
    "#plt.style.use('seaborn-whitegrid')\n",
    "import numpy as np \n",
    "import math\n",
    "%matplotlib inline  "
   ]
  },
  {
   "cell_type": "code",
   "execution_count": 2,
   "metadata": {},
   "outputs": [],
   "source": [
    "def load_data(dataloc):\n",
    "    data = np.loadtxt(dataloc, unpack='true')\n",
    "    data = np.transpose(data, (1,0))\n",
    "    return data"
   ]
  },
  {
   "cell_type": "code",
   "execution_count": 3,
   "metadata": {},
   "outputs": [],
   "source": [
    "def extract_feature(image):\n",
    "    image = np.reshape(image, (16, 16))\n",
    "    flip_image = np.flip(image, 1)\n",
    "    diff = abs(image-flip_image)\n",
    "    sys  = -sum(sum(diff))/256\n",
    "    intense = sum(sum(image))/256\n",
    "    return sys, intense"
   ]
  },
  {
   "cell_type": "code",
   "execution_count": 4,
   "metadata": {},
   "outputs": [],
   "source": [
    "def load_features(dataloc):\n",
    "    data = load_data(dataloc)\n",
    "    n, _ = data.shape\n",
    "    data_set = []\n",
    "    for i in range(n):\n",
    "        label = 1 if data[i, 0]==1 else -1\n",
    "        image = data[i, 1:]\n",
    "        sys, intense = extract_feature(image)\n",
    "        data_set.append([label, 1, sys, intense])\n",
    "    return np.array(data_set)[:,1:], np.array(data_set)[:,0]"
   ]
  },
  {
   "cell_type": "code",
   "execution_count": 5,
   "metadata": {},
   "outputs": [],
   "source": [
    "def equal(x, y):\n",
    "    return True if abs(x-y) < 0.001 else False"
   ]
  },
  {
   "cell_type": "markdown",
   "metadata": {},
   "source": [
    "# #1"
   ]
  },
  {
   "cell_type": "code",
   "execution_count": 6,
   "metadata": {},
   "outputs": [],
   "source": [
    "def show_images(data):\n",
    "    '''\n",
    "    This function is used for plot image and save it.\n",
    "\n",
    "    Args:\n",
    "    data: Two images from train data with shape (2, 16, 16). The shape represents total 2\n",
    "          images and each image has size 16 by 16. \n",
    "\n",
    "    Returns:\n",
    "        Do not return any arguments, just save the images you plot for your report.\n",
    "    '''\n",
    "    for iImag in range(len(data)):\n",
    "        dataRow = data[iImag][1:]\n",
    "        pixels  = np.matrix(dataRow)\n",
    "        plt.figure(figsize=(2.5,2.5))\n",
    "        plt.imshow(pixels ,cmap='gray')\n",
    "        plt.show()"
   ]
  },
  {
   "cell_type": "code",
   "execution_count": 7,
   "metadata": {},
   "outputs": [],
   "source": [
    "def play_with_data():\n",
    "    # show the data\n",
    "    trainDataFileName = \"../data/train.txt\"\n",
    "    nums = 2\n",
    "    data = load_data(trainDataFileName)[0:nums,1:]\n",
    "    [n,d]=data.shape\n",
    "    w = math.floor(math.sqrt(d))\n",
    "    data = np.reshape(data, (nums, w, w))\n",
    "    show_images(data)\n",
    "    print(\"play with data done!\")"
   ]
  },
  {
   "cell_type": "code",
   "execution_count": 8,
   "metadata": {},
   "outputs": [
    {
     "data": {
      "image/png": "[encoded data removed]",
      "text/plain": [
       "<Figure size 180x180 with 1 Axes>"
      ]
     },
     "metadata": {
      "needs_background": "light"
     },
     "output_type": "display_data"
    },
    {
     "data": {
      "image/png": "[encoded data removed]",
      "text/plain": [
       "<Figure size 180x180 with 1 Axes>"
      ]
     },
     "metadata": {
      "needs_background": "light"
     },
     "output_type": "display_data"
    },
    {
     "name": "stdout",
     "output_type": "stream",
     "text": [
      "play with data done!\n"
     ]
    }
   ],
   "source": [
    "play_with_data()"
   ]
  },
  {
   "cell_type": "markdown",
   "metadata": {},
   "source": [
    "# #2"
   ]
  },
  {
   "cell_type": "code",
   "execution_count": 9,
   "metadata": {},
   "outputs": [],
   "source": [
    "import matplotlib\n",
    "import matplotlib.pyplot as plt\n",
    "def show_features(data, label):\n",
    "    '''\n",
    "    This function is used for plot a 2-D scatter plot of the features and save it. \n",
    "\n",
    "    Args:\n",
    "        data: train features with shape (1561, 2). The shape represents total 1561 samples and \n",
    "        each sample has 2 features.\n",
    "        \n",
    "        label: train data's label with shape (1561,1). \n",
    "             1 for digit number 1  \n",
    "            -1 for digit number 5.\n",
    "\n",
    "    Returns:\n",
    "        Do not return any arguments, just save the 2-D scatter plot of the features you plot for your report.\n",
    "    '''\n",
    "    plt.scatter(data[:,0][label == 1], data[:,1][label == 1] , color='red', marker='*')\n",
    "    plt.scatter(data[:,0][label == -1], data[:,1][label == -1],color='blue', marker='+')\n"
   ]
  },
  {
   "cell_type": "code",
   "execution_count": 10,
   "metadata": {},
   "outputs": [],
   "source": [
    "def play_with_features():\n",
    "    #get data\n",
    "    traindataloc,testdataloc = \"../data/train.txt\", \"../data/test.txt\"\n",
    "    train_data,train_label = load_features(traindataloc)\n",
    "    test_data, test_label = load_features(testdataloc)\n",
    "    \n",
    "    show_features(train_data[:,1:3],train_label)\n",
    "    print(\"play with features done!\")"
   ]
  },
  {
   "cell_type": "code",
   "execution_count": 11,
   "metadata": {},
   "outputs": [
    {
     "name": "stdout",
     "output_type": "stream",
     "text": [
      "play with features done!\n"
     ]
    },
    {
     "data": {
      "image/png": "[encoded data removed]",
      "text/plain": [
       "<Figure size 432x288 with 1 Axes>"
      ]
     },
     "metadata": {
      "needs_background": "light"
     },
     "output_type": "display_data"
    }
   ],
   "source": [
    "play_with_features()"
   ]
  },
  {
   "cell_type": "markdown",
   "metadata": {
    "collapsed": true
   },
   "source": [
    "# #3"
   ]
  },
  {
   "cell_type": "code",
   "execution_count": 70,
   "metadata": {},
   "outputs": [],
   "source": [
    "def perceptron(data, label, max_iter, learning_rate):\n",
    "    '''\n",
    "    The perceptron classifier function.\n",
    "\n",
    "    Args:\n",
    "    data: train data with shape (1561, 3), which means 1561 samples and \n",
    "          each sample has 3 features.(1, symmetry, average internsity)\n",
    "          \n",
    "    label: train data's label with shape (1561,1). \n",
    "           1 for digit number 1 and -1 for digit number 5.\n",
    "           \n",
    "    max_iter: max iteration numbers\n",
    "    \n",
    "    learning_rate: learning rate for weight update\n",
    "\n",
    "    Returns:\n",
    "        w: the seperater with shape (1, 3). You must initilize it with w = np.zeros((1,d))\n",
    "    '''\n",
    "    print(\"Data Shape: \",data.shape)\n",
    "    print(\"Label Shape: \", label.shape)\n",
    "    print(\"max_iter: \", max_iter)\n",
    "    print(\"learning_rate: \", learning_rate)\n",
    "    \n",
    "    print(\"Data: \\n\", data[0:5,:])\n",
    "    print(\"Label: \\n\", label[0:5])\n",
    "    \n",
    "    w = np.zeros((1,data.shape[1]))\n",
    "    print(\"Weights: \" , w)\n",
    "    \n",
    "    hypothesis = np.dot(data[0],w[0]) # (1x3)(3x1) = 1x1\n",
    "    print(\"hypothesis: \", hypothesis)\n",
    "    \n",
    "    # sign function\n",
    "    h_x = 1 if hypothesis >= 0 else -1 \n"
   ]
  },
  {
   "cell_type": "code",
   "execution_count": 71,
   "metadata": {},
   "outputs": [],
   "source": [
    "def test_perceptron(max_iter, learning_rate):\n",
    "    #get data\n",
    "    traindataloc,testdataloc = \"../data/train.txt\", \"../data/test.txt\"\n",
    "    train_data,train_label = load_features(traindataloc)\n",
    "    test_data, test_label = load_features(testdataloc)\n",
    "    #train perceptron\n",
    "    w = perceptron(train_data, train_label, max_iter, learning_rate)\n",
    "    #train_acc = accuracy_perceptron(train_data, train_label, w)\n",
    "   \n",
    "    #test perceptron model\n",
    "    #test_acc = accuracy_perceptron(test_data, test_label, w)\n",
    "    #return w, train_acc, test_acc"
   ]
  },
  {
   "cell_type": "code",
   "execution_count": 72,
   "metadata": {},
   "outputs": [
    {
     "name": "stdout",
     "output_type": "stream",
     "text": [
      "Data Shape:  (1561, 3)\n",
      "Label Shape:  (1561,)\n",
      "max_iter:  30\n",
      "learning_rate:  0.1\n",
      "Data: \n",
      " [[ 1.         -0.53372656 -0.11173828]\n",
      " [ 1.         -0.1174375  -0.75391406]\n",
      " [ 1.         -0.16229688 -0.77228125]\n",
      " [ 1.         -0.0595     -0.76925781]\n",
      " [ 1.         -0.05090625 -0.7954375 ]]\n",
      "Label: \n",
      " [-1.  1.  1.  1.  1.]\n",
      "Weights:  [[0. 0. 0.]]\n",
      "hypothesis:  0.0\n"
     ]
    },
    {
     "name": "stderr",
     "output_type": "stream",
     "text": [
      "C:\\Users\\lauro\\Anaconda3\\lib\\site-packages\\ipykernel_launcher.py:34: DeprecationWarning: In future, it will be an error for 'np.bool_' scalars to be interpreted as an index\n"
     ]
    }
   ],
   "source": [
    "max_iter = 30\n",
    "learning_rate = 0.1\n",
    "\n",
    "test_perceptron(max_iter, learning_rate)"
   ]
  },
  {
   "cell_type": "code",
   "execution_count": null,
   "metadata": {},
   "outputs": [],
   "source": []
  },
  {
   "cell_type": "code",
   "execution_count": 54,
   "metadata": {},
   "outputs": [
    {
     "name": "stdout",
     "output_type": "stream",
     "text": [
      "x shape:  (1, 3)\n",
      "w shape:  (1, 3)\n",
      "\n",
      "\n",
      "[[69]]\n",
      "\n",
      "\n",
      "[[69]]\n"
     ]
    }
   ],
   "source": [
    "x = np.array([[2,4,5]])\n",
    "w = np.array([[5,6,7]])\n",
    "print(\"x shape: \",x.shape)\n",
    "print(\"w shape: \",w.shape)\n",
    "print(\"\\n\")\n",
    "print(np.dot(x,w.T))\n",
    "\n",
    "print(\"\\n\")\n",
    "print(np.dot(w,x.T))"
   ]
  },
  {
   "cell_type": "code",
   "execution_count": null,
   "metadata": {},
   "outputs": [],
   "source": []
  }
 ],
 "metadata": {
  "anaconda-cloud": {},
  "kernelspec": {
   "display_name": "Python 3",
   "language": "python",
   "name": "python3"
  },
  "language_info": {
   "codemirror_mode": {
    "name": "ipython",
    "version": 3
   },
   "file_extension": ".py",
   "mimetype": "text/x-python",
   "name": "python",
   "nbconvert_exporter": "python",
   "pygments_lexer": "ipython3",
   "version": "3.7.3"
  }
 },
 "nbformat": 4,
 "nbformat_minor": 1
}

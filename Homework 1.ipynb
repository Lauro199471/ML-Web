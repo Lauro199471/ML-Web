{
 "cells": [
  {
   "cell_type": "code",
   "execution_count": 1,
   "metadata": {},
   "outputs": [],
   "source": [
    "import numpy as np \n",
    "import pandas as pd"
   ]
  },
  {
   "cell_type": "markdown",
   "metadata": {},
   "source": [
    "## 1"
   ]
  },
  {
   "cell_type": "code",
   "execution_count": 2,
   "metadata": {},
   "outputs": [],
   "source": [
    "# input two matrices \n",
    "mat1 = ([3],[1]) \n",
    "mat2 = ([2],[2]) "
   ]
  },
  {
   "cell_type": "code",
   "execution_count": 3,
   "metadata": {},
   "outputs": [
    {
     "name": "stdout",
     "output_type": "stream",
     "text": [
      "   0\n",
      "0  8\n"
     ]
    }
   ],
   "source": [
    "# This will return dot product \n",
    "res = np.dot( np.transpose(mat1) , mat2) \n",
    "print(pd.DataFrame(res))"
   ]
  },
  {
   "cell_type": "code",
   "execution_count": 4,
   "metadata": {},
   "outputs": [
    {
     "name": "stdout",
     "output_type": "stream",
     "text": [
      "   0\n",
      "0  8\n"
     ]
    }
   ],
   "source": [
    "# This will return dot product \n",
    "res = np.dot( np.transpose(mat2) , mat1) \n",
    "print(pd.DataFrame(res))"
   ]
  },
  {
   "cell_type": "code",
   "execution_count": 5,
   "metadata": {},
   "outputs": [
    {
     "name": "stdout",
     "output_type": "stream",
     "text": [
      "   0  1\n",
      "0  6  6\n",
      "1  2  2\n"
     ]
    }
   ],
   "source": [
    "# This will return dot product \n",
    "res = np.dot(mat1, np.transpose(mat2)) \n",
    "print(pd.DataFrame(res))"
   ]
  },
  {
   "cell_type": "code",
   "execution_count": 6,
   "metadata": {},
   "outputs": [
    {
     "name": "stdout",
     "output_type": "stream",
     "text": [
      "   0  1\n",
      "0  6  2\n",
      "1  6  2\n"
     ]
    }
   ],
   "source": [
    "# This will return dot product \n",
    "res = np.dot(mat2, np.transpose(mat1)) \n",
    "print(pd.DataFrame(res))"
   ]
  },
  {
   "cell_type": "markdown",
   "metadata": {},
   "source": [
    "## 2"
   ]
  },
  {
   "cell_type": "code",
   "execution_count": 7,
   "metadata": {},
   "outputs": [
    {
     "name": "stdout",
     "output_type": "stream",
     "text": [
      "x matrix:\n",
      "    0\n",
      "0  14\n",
      "1  16\n",
      "2   5\n",
      "3  12\n",
      "4   6\n",
      "\n",
      "y matrix:\n",
      "    0\n",
      "0  18\n",
      "1  11\n",
      "2   7\n",
      "3  15\n",
      "4  16\n",
      "\n",
      "x(y.T) dim: (5, 5)\n",
      "Rank: 1\n"
     ]
    }
   ],
   "source": [
    "rowRandom = np.random.randint(low=2,high=10) # Get random number between 2~10\n",
    "\n",
    "# input two matrices \n",
    "x = np.random.randint(low=0,high=20,size=(rowRandom,1))\n",
    "y = np.random.randint(low=0,high=20,size=(rowRandom,1))\n",
    "\n",
    "print('x matrix:\\n' + str(pd.DataFrame(x)) + '\\n')\n",
    "print('y matrix:\\n' + str(pd.DataFrame(y)) + '\\n')\n",
    "\n",
    "res = np.dot(x, np.transpose(y)) \n",
    "\n",
    "print('x(y.T) dim: ' + str(np.shape(res)))\n",
    "print('Rank: ' + str(np.linalg.matrix_rank(res)))"
   ]
  },
  {
   "cell_type": "code",
   "execution_count": 8,
   "metadata": {},
   "outputs": [
    {
     "name": "stdout",
     "output_type": "stream",
     "text": [
      "x matrix:\n",
      "    0\n",
      "0  17\n",
      "1   4\n",
      "2   1\n",
      "3   4\n",
      "4   3\n",
      "\n",
      "y matrix:\n",
      "    0\n",
      "0  15\n",
      "1   8\n",
      "2  12\n",
      "3   9\n",
      "4   8\n",
      "\n",
      "x(y.T) dim: (5, 5)\n",
      "Rank: 1\n"
     ]
    }
   ],
   "source": [
    "rowRandom = np.random.randint(low=2,high=10) # Get random number between 2~10\n",
    "\n",
    "# input two matrices \n",
    "x = np.random.randint(low=0,high=20,size=(rowRandom,1))\n",
    "y = np.random.randint(low=0,high=20,size=(rowRandom,1))\n",
    "\n",
    "print('x matrix:\\n' + str(pd.DataFrame(x)) + '\\n')\n",
    "print('y matrix:\\n' + str(pd.DataFrame(y)) + '\\n')\n",
    "\n",
    "res = np.dot(x, np.transpose(y)) \n",
    "\n",
    "print('x(y.T) dim: ' + str(np.shape(res)))\n",
    "print('Rank: ' + str(np.linalg.matrix_rank(res)))"
   ]
  },
  {
   "cell_type": "code",
   "execution_count": 9,
   "metadata": {},
   "outputs": [
    {
     "name": "stdout",
     "output_type": "stream",
     "text": [
      "x dim: (4, 1)\n",
      "x matrix:\n",
      "    0\n",
      "0  17\n",
      "1  10\n",
      "2   3\n",
      "3   8\n",
      "\n",
      "y matrix:\n",
      "    0\n",
      "0  14\n",
      "1  12\n",
      "2  12\n",
      "3  17\n",
      "\n",
      "x(y.T) dim: (4, 4)\n",
      "Rank: 1\n"
     ]
    }
   ],
   "source": [
    "rowRandom = np.random.randint(low=2,high=10) # Get random number between 2~10\n",
    "\n",
    "# input two matrices \n",
    "x = np.random.randint(low=0,high=20,size=(rowRandom,1))\n",
    "y = np.random.randint(low=0,high=20,size=(rowRandom,1))\n",
    "print('x dim: ' + str(np.shape(x)))\n",
    "\n",
    "print('x matrix:\\n' + str(pd.DataFrame(x)) + '\\n')\n",
    "print('y matrix:\\n' + str(pd.DataFrame(y)) + '\\n')\n",
    "\n",
    "res = np.dot(x, np.transpose(y)) \n",
    "\n",
    "print('x(y.T) dim: ' + str(np.shape(res)))\n",
    "print('Rank: ' + str(np.linalg.matrix_rank(res)))"
   ]
  },
  {
   "cell_type": "code",
   "execution_count": null,
   "metadata": {},
   "outputs": [],
   "source": []
  }
 ],
 "metadata": {
  "kernelspec": {
   "display_name": "Python 3",
   "language": "python",
   "name": "python3"
  },
  "language_info": {
   "codemirror_mode": {
    "name": "ipython",
    "version": 3
   },
   "file_extension": ".py",
   "mimetype": "text/x-python",
   "name": "python",
   "nbconvert_exporter": "python",
   "pygments_lexer": "ipython3",
   "version": "3.7.3"
  }
 },
 "nbformat": 4,
 "nbformat_minor": 2
}

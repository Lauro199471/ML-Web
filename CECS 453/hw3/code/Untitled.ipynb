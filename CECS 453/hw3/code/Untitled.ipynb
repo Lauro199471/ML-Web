{
 "cells": [
  {
   "cell_type": "code",
   "execution_count": 1,
   "metadata": {},
   "outputs": [],
   "source": [
    "from matplotlib import pyplot as plt\n",
    "import numpy as np \n",
    "import math\n",
    "import matplotlib.pyplot as plt\n",
    "%matplotlib inline"
   ]
  },
  {
   "cell_type": "markdown",
   "metadata": {},
   "source": [
    "### Defined by me"
   ]
  },
  {
   "cell_type": "code",
   "execution_count": 2,
   "metadata": {},
   "outputs": [],
   "source": [
    "def sigmoid(s):\n",
    "    return 1 / (1 + np.exp(-s))"
   ]
  },
  {
   "cell_type": "code",
   "execution_count": 80,
   "metadata": {},
   "outputs": [],
   "source": [
    "def logistic_regression(data, label, max_iter, learning_rate):\n",
    "    '''\n",
    "    The logistic regression classifier function.\n",
    "\n",
    "    Args:\n",
    "    data: train data with shape (1561, 3), which means 1561 samples and \n",
    "          each sample has 3 features.(1, symmetry, average internsity)\n",
    "          \n",
    "    label: train data's label with shape (1561,1). \n",
    "           1 for digit number 1 and -1 for digit number 5.\n",
    "           \n",
    "    max_iter: max iteration numbers\n",
    "    \n",
    "    learning_rate: learning rate for weight update\n",
    "\n",
    "    Returns:\n",
    "        w: the seperater with shape (3, 1). You must initilize it with w = np.zeros((d,1))\n",
    "    '''\n",
    "    N,m = data.shape\n",
    "    w = np.zeros((m,1))\n",
    "    # Compute the Gradient\n",
    "    for t in range(max_iter):\n",
    "        g = 0\n",
    "        for n in range(N):\n",
    "            g = (-label[n]*data[n]*sigmoid(-label[n]*np.dot(w.T,data[n]))) + g\n",
    "        g = (1/N)*g\n",
    "        g = g.reshape((m,1))\n",
    "        w = w + (learning_rate * -g)    \n",
    "    return w"
   ]
  },
  {
   "cell_type": "code",
   "execution_count": 4,
   "metadata": {},
   "outputs": [],
   "source": [
    "def accuracy(x, y, w):\n",
    "    '''\n",
    "    This function is used to compute accuracy of a logsitic regression model.\n",
    "    \n",
    "    Args:\n",
    "    x: input data with shape (n, d), where n represents total data samples and d represents\n",
    "        total feature numbers of a certain data sample.\n",
    "        \n",
    "    y: corresponding label of x with shape(n, 1), where n represents total data samples.\n",
    "    \n",
    "    w: the seperator learnt from logistic regression function with shape (d, 1),\n",
    "        where d represents total feature numbers of a certain data sample.\n",
    "\n",
    "    Return \n",
    "        accuracy: total percents of correctly classified samples. Set the threshold as 0.5,\n",
    "        which means, if the predicted probability > 0.5, classify as 1; Otherwise, classify as -1.\n",
    "    '''\n",
    "    final_scores = np.dot(x, w)\n",
    "    preds = sigmoid(final_scores)\n",
    "    preds = [1 if(x >= 0.5) else -1 for x in preds]\n",
    "    top = 0\n",
    "    for i in range(len(y)):\n",
    "        if(preds[i]==y[i]):\n",
    "            top = top + 1\n",
    "    accuracy = top/len(y)\n",
    "    return accuracy"
   ]
  },
  {
   "cell_type": "code",
   "execution_count": 60,
   "metadata": {},
   "outputs": [],
   "source": [
    "def thirdorder(data):\n",
    "    '''\n",
    "    This function is used for a 3rd order polynomial transform of the data.\n",
    "    Args:\n",
    "    data: input data with shape (:, 3) the first dimension represents \n",
    "          total samples (training: 1561; testing: 424) and the \n",
    "          second dimesion represents total features.\n",
    "\n",
    "    Return:\n",
    "    result: A numpy array format new data with shape (:,10), which using \n",
    "            a 3rd order polynomial transformation to extend the feature numbers \n",
    "            from 3 to 10. \n",
    "            The first dimension represents total samples (training: 1561; testing: 424) \n",
    "            and the second dimesion represents total features.\n",
    "    '''\n",
    "    N,_ = data.shape\n",
    "    ones = np.ones((N,1))\n",
    "    x_one_pow_two = np.power(data[:,0:1],2)\n",
    "    x_two_pow_two = np.power(data[:,1:2],2)\n",
    "    x_one_pow_thr = np.power(data[:,0:1],3)\n",
    "    x_two_pow_thr = np.power(data[:,1:2],3)\n",
    "    \n",
    "    result = np.hstack((ones,                      #  1\n",
    "                        data[:,0:1],               # x_1\n",
    "                        data[:,1:2],               # x_2\n",
    "                        x_one_pow_two,             # (x_1)^2\n",
    "                        data[:,0:1]*data[:,1:2],   # x_1*x_2\n",
    "                        x_two_pow_two,             # (x_2)^2\n",
    "                        x_one_pow_thr,             # (x_1)^3\n",
    "                        x_one_pow_two*data[:,1:2], # (x_1)^2 * x_2\n",
    "                        data[:,0:1]*x_two_pow_two, # x_1 * (x_2)^2\n",
    "                        x_two_pow_thr              # (x_2)^3\n",
    "                       ))       \n",
    "\n",
    "    return result"
   ]
  },
  {
   "cell_type": "markdown",
   "metadata": {},
   "source": [
    "### Defined by Professor"
   ]
  },
  {
   "cell_type": "code",
   "execution_count": 82,
   "metadata": {},
   "outputs": [],
   "source": [
    "#Use for testing the training and testing processes of a model\n",
    "def train_test_a_model(modelname, train_data, train_label, test_data, test_label, max_iter, learning_rate):\n",
    "    print(modelname+\" testing...\")\n",
    "    \n",
    "    # max iteration test cases \n",
    "    for i, m_iter in enumerate(max_iter):\n",
    "        w = logistic_regression(train_data, train_label, m_iter, learning_rate[1])\n",
    "        Ain, Aout = accuracy(train_data, train_label, w), accuracy(test_data, test_label, w)\n",
    "        print(\"max iteration testcase%d: Train accuracy: %f, Test accuracy: %f\"%(i, Ain, Aout))\n",
    "    # learning rate test cases\n",
    "    for i, l_rate in enumerate(learning_rate):\n",
    "        w = logistic_regression(train_data, train_label, max_iter[3], l_rate)\n",
    "        Ain, Aout = accuracy(train_data, train_label, w), accuracy(test_data, test_label, w)\n",
    "        print(\"learning rate testcase%d: Train accuracy: %f, Test accuracy: %f\"%(i, Ain, Aout))\n",
    "    print(modelname+\" test done.\")"
   ]
  },
  {
   "cell_type": "code",
   "execution_count": 72,
   "metadata": {},
   "outputs": [],
   "source": [
    "def extract_feature(image):\n",
    "    image = np.reshape(image, (16, 16))\n",
    "    flip_image = np.flip(image, 1)\n",
    "    diff = abs(image-flip_image)\n",
    "    sys  = -sum(sum(diff))/256\n",
    "    intense = sum(sum(image))/256\n",
    "    return sys, intense"
   ]
  },
  {
   "cell_type": "code",
   "execution_count": 73,
   "metadata": {},
   "outputs": [],
   "source": [
    "def load_data(dataloc):\n",
    "    data = np.loadtxt(dataloc, unpack='true')\n",
    "    data = np.transpose(data, (1,0))\n",
    "    return data"
   ]
  },
  {
   "cell_type": "code",
   "execution_count": 74,
   "metadata": {},
   "outputs": [],
   "source": [
    "def load_features(dataloc):\n",
    "    data = load_data(dataloc)\n",
    "    n, _ = data.shape\n",
    "    data_set = []\n",
    "    for i in range(n):\n",
    "        label = 1 if data[i, 0]==1 else -1\n",
    "        image = data[i, 1:]\n",
    "        sys, intense = extract_feature(image)\n",
    "        data_set.append([label, 1, sys, intense])\n",
    "    return np.array(data_set)[:,1:], np.array(data_set)[:,0]"
   ]
  },
  {
   "cell_type": "code",
   "execution_count": 75,
   "metadata": {},
   "outputs": [],
   "source": [
    "def test_logistic_regression():\n",
    "    max_iter = [100, 200, 500,1000]\n",
    "    learning_rate = [0.1, 0.2, 0.5]\n",
    "    traindataloc,testdataloc = \"../data/train.txt\", \"../data/test.txt\"\n",
    "    train_data,train_label = load_features(traindataloc)\n",
    "    test_data, test_label = load_features(testdataloc)\n",
    "    try:\n",
    "        train_test_a_model(\"logistic regression\", train_data, train_label, test_data,test_label, max_iter, learning_rate)\n",
    "    except:\n",
    "        print(\"Please finish logistic_regression() and cross_entropy_error() functions \\n\\\n",
    "        before you run the test_logistic_regression() function.\\n\")"
   ]
  },
  {
   "cell_type": "code",
   "execution_count": 28,
   "metadata": {},
   "outputs": [
    {
     "name": "stdout",
     "output_type": "stream",
     "text": [
      "logistic regression testing...\n",
      "max iteration testcase0: Train accuracy: 0.834721, Test accuracy: 0.827830\n",
      "max iteration testcase1: Train accuracy: 0.924407, Test accuracy: 0.900943\n",
      "max iteration testcase2: Train accuracy: 0.966047, Test accuracy: 0.941038\n",
      "max iteration testcase3: Train accuracy: 0.973735, Test accuracy: 0.950472\n",
      "learning rate testcase0: Train accuracy: 0.966047, Test accuracy: 0.941038\n",
      "learning rate testcase1: Train accuracy: 0.973735, Test accuracy: 0.950472\n",
      "learning rate testcase2: Train accuracy: 0.978860, Test accuracy: 0.962264\n",
      "logistic regression test done.\n"
     ]
    }
   ],
   "source": [
    "test_logistic_regression()"
   ]
  },
  {
   "cell_type": "code",
   "execution_count": 83,
   "metadata": {},
   "outputs": [],
   "source": [
    "def test_thirdorder_logistic_regression():\n",
    "    max_iter = [100, 200, 500,1000]\n",
    "    learning_rate = [0.1, 0.2, 0.5]\n",
    "    traindataloc,testdataloc = \"../data/train.txt\", \"../data/test.txt\"\n",
    "    train_data,train_label = load_features(traindataloc)\n",
    "    test_data, test_label = load_features(testdataloc)\n",
    "    try:\n",
    "        new_train_data = thirdorder(train_data[:,1:3])\n",
    "        new_test_data = thirdorder(test_data[:,1:3])\n",
    "        train_test_a_model(\"3rd order logistic regression\", new_train_data, train_label,\n",
    "                           new_test_data, test_label, max_iter, learning_rate)\n",
    "    except:\n",
    "        print(\"Please finish thirdorder() function before you run\\n\\\n",
    "                the test_thirdorder_logistic_regression() function.\\n\")"
   ]
  },
  {
   "cell_type": "code",
   "execution_count": 84,
   "metadata": {},
   "outputs": [
    {
     "name": "stdout",
     "output_type": "stream",
     "text": [
      "3rd order logistic regression testing...\n",
      "max iteration testcase0: Train accuracy: 0.924407, Test accuracy: 0.898585\n",
      "max iteration testcase1: Train accuracy: 0.958360, Test accuracy: 0.941038\n",
      "max iteration testcase2: Train accuracy: 0.970532, Test accuracy: 0.948113\n",
      "max iteration testcase3: Train accuracy: 0.975016, Test accuracy: 0.955189\n",
      "learning rate testcase0: Train accuracy: 0.970532, Test accuracy: 0.948113\n",
      "learning rate testcase1: Train accuracy: 0.975016, Test accuracy: 0.955189\n",
      "learning rate testcase2: Train accuracy: 0.978219, Test accuracy: 0.964623\n",
      "3rd order logistic regression test done.\n"
     ]
    }
   ],
   "source": [
    "test_thirdorder_logistic_regression()"
   ]
  }
 ],
 "metadata": {
  "kernelspec": {
   "display_name": "Python 3",
   "language": "python",
   "name": "python3"
  },
  "language_info": {
   "codemirror_mode": {
    "name": "ipython",
    "version": 3
   },
   "file_extension": ".py",
   "mimetype": "text/x-python",
   "name": "python",
   "nbconvert_exporter": "python",
   "pygments_lexer": "ipython3",
   "version": "3.7.4"
  }
 },
 "nbformat": 4,
 "nbformat_minor": 2
}

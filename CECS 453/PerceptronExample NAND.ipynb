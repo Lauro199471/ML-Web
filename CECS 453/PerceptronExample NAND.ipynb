{
 "cells": [
  {
   "cell_type": "markdown",
   "metadata": {},
   "source": [
    "In this section I’m going to implement the NAND model in Python."
   ]
  },
  {
   "cell_type": "code",
   "execution_count": 1,
   "metadata": {},
   "outputs": [],
   "source": [
    "import numpy as np\n",
    "import matplotlib.pyplot as plt"
   ]
  },
  {
   "cell_type": "code",
   "execution_count": 84,
   "metadata": {},
   "outputs": [
    {
     "name": "stdout",
     "output_type": "stream",
     "text": [
      "X size: (4, 1)\n",
      "Y size: (4, 1)\n",
      "X:\n",
      " [[1 0 0]\n",
      " [1 0 1]\n",
      " [1 1 0]\n",
      " [1 1 1]]\n",
      "Y:\n",
      " [[1]\n",
      " [1]\n",
      " [1]\n",
      " [0]]\n"
     ]
    }
   ],
   "source": [
    "# NAND gate features\n",
    "# note: x0 is a dummy variable for the bias term\n",
    "#     x0  x1  x2\n",
    "x = np.matrix([[1, 0, 0],                                  \n",
    "               [1, 0, 1],                                 \n",
    "               [1, 1, 0],                                  \n",
    "               [1, 1, 1]])\n",
    "# Desired outputs\n",
    "y = np.matrix([[1],                                            \n",
    "               [1],                                            \n",
    "               [1],                                            \n",
    "               [0]])\n",
    "print('X size:', x[:,1].shape)\n",
    "print('Y size:', y.shape)\n",
    "print('X:\\n',x)\n",
    "print('Y:\\n',y[:,0])"
   ]
  },
  {
   "cell_type": "code",
   "execution_count": 94,
   "metadata": {},
   "outputs": [
    {
     "data": {
      "image/png": "[encoded data removed]",
      "text/plain": [
       "<Figure size 720x360 with 1 Axes>"
      ]
     },
     "metadata": {
      "needs_background": "light"
     },
     "output_type": "display_data"
    }
   ],
   "source": [
    "# scatter plot to visualize the two classes (red=1, blue=0)\n",
    "fig, ax = plt.subplots(figsize=(10, 5))\n",
    "\n",
    "ax.scatter([x[:,1][y[:,0] == 1]], [x[:,2][y[:,0] == 1]] ,color='blue',edgecolors='black')\n",
    "ax.scatter([x[:,1][y[:,0] == 0]], [x[:,2][y[:,0] == 0]] ,color='red' ,edgecolors='black')\n",
    "\n",
    "ax.spines['top'].set_visible(False)\n",
    "ax.spines['right'].set_visible(False)\n",
    "ax.grid(color='grey', linestyle='-', linewidth=0.25, alpha=0.5)\n",
    "ax.set(xlim=(-0.5, 2), ylim=(-0.5, 2), xlabel='Feature 1', ylabel='Feature 2', title='NAND Data Set')\n",
    "ax.set_facecolor('#f0f0f0')"
   ]
  },
  {
   "cell_type": "code",
   "execution_count": 95,
   "metadata": {},
   "outputs": [],
   "source": [
    "# Training the Perceptron\n",
    "# Inputs\n",
    "# data:   feature data\n",
    "# label:  outputs\n",
    "# learning_rate: learning rate\n",
    "#max_iter: number of iterations\n",
    "def perceptron(data, label, max_iter, learning_rate):\n",
    "    '''\n",
    "    The perceptron classifier function.\n",
    "\n",
    "    Args:\n",
    "    data: train data with shape (m, 3), which means m samples and \n",
    "          each sample has 3 features.(1, feature 1, feature 2)\n",
    "          \n",
    "    label: train data's label with shape (m,1). \n",
    "           1 for digit number 1 and -1 for digit number 5.\n",
    "           \n",
    "    max_iter: max iteration numbers\n",
    "    \n",
    "    learning_rate: learning rate for weight update\n",
    "\n",
    "    Returns:\n",
    "        w: the seperater with shape (1, m). You must initilize it with w = np.zeros((1,d))\n",
    "    '''\n",
    "    n,m = data.shape\n",
    "    \n",
    "    # Initialize weights vector\n",
    "    w = np.zeros((1,m)) \n",
    "    \n",
    "    for t in range(max_iter):\n",
    "        for i, x in enumerate(data):\n",
    "            a = np.dot(data[i],w.T) # (w1)(x1)+(w2)(x2)+...+(wn)(xn)\n",
    "            prediction = 1.0 if a >= 0.0 else 0 # sign(a)\n",
    "            if(prediction != label[i]):\n",
    "                if(label[i] == 0):\n",
    "                    w = w + (learning_rate * -1 * data[i])\n",
    "                else:\n",
    "                    w = w + (learning_rate * 1 * data[i])\n",
    "    return w"
   ]
  },
  {
   "cell_type": "code",
   "execution_count": 96,
   "metadata": {},
   "outputs": [
    {
     "name": "stdout",
     "output_type": "stream",
     "text": [
      "The weights are: [[ 1.962 -1.962 -0.981]]\n"
     ]
    }
   ],
   "source": [
    "max_iter = 20\n",
    "learning_rate = 0.981\n",
    "\n",
    "w = perceptron(x, y, max_iter, learning_rate)\n",
    "print('The weights are:',w)"
   ]
  },
  {
   "cell_type": "code",
   "execution_count": 108,
   "metadata": {},
   "outputs": [],
   "source": [
    "def show_result(data, label, w):\n",
    "    '''\n",
    "    This function is used for plot the test data with the separators and save it.\n",
    "\n",
    "    Args:\n",
    "    data: test features with shape (424, 2). The shape represents total 424 samples and \n",
    "          each sample has 2 features.\n",
    "    label: test data's label with shape (424,1). \n",
    "           1 for digit number 1 and -1 for digit number 5.\n",
    "\n",
    "    Returns:\n",
    "    Do not return any arguments, just save the image you plot for your report.\n",
    "    '''\n",
    "    b  = w[0,0]\n",
    "    wx = w[0,1]\n",
    "    wy = w[0,2]\n",
    "    \n",
    "    x = np.linspace(-5,5,100)\n",
    "    y = (-b-(x*wx))/wy\n",
    "    \n",
    "    fig, ax = plt.subplots(figsize=(10, 5))\n",
    "    ax.plot(x, y, '-g')\n",
    "    \n",
    "    ax.scatter([data[:,1][label[:,0] == 1]], [data[:,2][label[:,0] == 1]] ,color='blue',edgecolors='black')\n",
    "    ax.scatter([data[:,1][label[:,0] == 0]], [data[:,2][label[:,0] == 0]] ,color='red' ,edgecolors='black')\n",
    "    \n",
    "    ax.spines['top'].set_visible(False)\n",
    "    ax.spines['right'].set_visible(False)\n",
    "    ax.grid(color='grey', linestyle='-', linewidth=0.25, alpha=0.5)\n",
    "    ax.set(xlim=(-0.5, 2), ylim=(-0.5, 2), xlabel='Feature 1', ylabel='Feature 2', title='NAND Data Set')\n",
    "    ax.set_facecolor('#f0f0f0')"
   ]
  },
  {
   "cell_type": "code",
   "execution_count": 119,
   "metadata": {},
   "outputs": [],
   "source": [
    "def play_with_result(train_data, train_label):\n",
    "    max_iter = 5\n",
    "    learning_rate = 0.01\n",
    "    w = perceptron(train_data, train_label, max_iter, learning_rate)\n",
    "    show_result(train_data, train_label, w)\n",
    "    print(\"play with result done!\")"
   ]
  },
  {
   "cell_type": "code",
   "execution_count": 120,
   "metadata": {},
   "outputs": [
    {
     "name": "stdout",
     "output_type": "stream",
     "text": [
      "play with result done!\n"
     ]
    },
    {
     "data": {
      "image/png": "[encoded data removed]",
      "text/plain": [
       "<Figure size 720x360 with 1 Axes>"
      ]
     },
     "metadata": {
      "needs_background": "light"
     },
     "output_type": "display_data"
    }
   ],
   "source": [
    "play_with_result(x, y)"
   ]
  },
  {
   "cell_type": "code",
   "execution_count": null,
   "metadata": {},
   "outputs": [],
   "source": []
  }
 ],
 "metadata": {
  "kernelspec": {
   "display_name": "Python 3",
   "language": "python",
   "name": "python3"
  },
  "language_info": {
   "codemirror_mode": {
    "name": "ipython",
    "version": 3
   },
   "file_extension": ".py",
   "mimetype": "text/x-python",
   "name": "python",
   "nbconvert_exporter": "python",
   "pygments_lexer": "ipython3",
   "version": "3.7.3"
  }
 },
 "nbformat": 4,
 "nbformat_minor": 2
}

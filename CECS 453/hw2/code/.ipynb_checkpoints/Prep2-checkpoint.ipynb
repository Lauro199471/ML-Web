{
 "cells": [
  {
   "cell_type": "code",
   "execution_count": 1,
   "metadata": {},
   "outputs": [],
   "source": [
    "from matplotlib import pyplot as plt\n",
    "import numpy as np \n",
    "import math\n",
    "%matplotlib inline  "
   ]
  },
  {
   "cell_type": "code",
   "execution_count": 2,
   "metadata": {},
   "outputs": [],
   "source": [
    "def load_data(dataloc):\n",
    "    data = np.loadtxt(dataloc, unpack='true')\n",
    "    data = np.transpose(data, (1,0))\n",
    "    return data"
   ]
  },
  {
   "cell_type": "code",
   "execution_count": 3,
   "metadata": {},
   "outputs": [],
   "source": [
    "def extract_feature(image):\n",
    "    image = np.reshape(image, (16, 16))\n",
    "    flip_image = np.flip(image, 1)\n",
    "    diff = abs(image-flip_image)\n",
    "    sys  = -sum(sum(diff))/256\n",
    "    intense = sum(sum(image))/256\n",
    "    return sys, intense"
   ]
  },
  {
   "cell_type": "code",
   "execution_count": 4,
   "metadata": {},
   "outputs": [],
   "source": [
    "def load_features(dataloc):\n",
    "    data = load_data(dataloc)\n",
    "    n, _ = data.shape\n",
    "    data_set = []\n",
    "    for i in range(n):\n",
    "        label = 1 if data[i, 0]==1 else -1\n",
    "        image = data[i, 1:]\n",
    "        sys, intense = extract_feature(image)\n",
    "        data_set.append([label, 1, sys, intense])\n",
    "    return np.array(data_set)[:,1:], np.array(data_set)[:,0]"
   ]
  },
  {
   "cell_type": "code",
   "execution_count": 5,
   "metadata": {},
   "outputs": [],
   "source": [
    "def equal(x, y):\n",
    "    return True if abs(x-y) < 0.001 else False"
   ]
  },
  {
   "cell_type": "markdown",
   "metadata": {},
   "source": [
    "# #1"
   ]
  },
  {
   "cell_type": "code",
   "execution_count": 6,
   "metadata": {},
   "outputs": [],
   "source": [
    "def show_images(data):\n",
    "    '''\n",
    "    This function is used for plot image and save it.\n",
    "\n",
    "    Args:\n",
    "    data: Two images from train data with shape (2, 16, 16). The shape represents total 2\n",
    "          images and each image has size 16 by 16. \n",
    "\n",
    "    Returns:\n",
    "        Do not return any arguments, just save the images you plot for your report.\n",
    "    '''\n",
    "    for iImag in range(len(data)):\n",
    "        dataRow = data[iImag][1:]\n",
    "        pixels  = np.matrix(dataRow)\n",
    "        plt.figure(figsize=(2.5,2.5))\n",
    "        plt.imshow(pixels ,cmap='gray')\n",
    "        plt.show()"
   ]
  },
  {
   "cell_type": "code",
   "execution_count": 7,
   "metadata": {},
   "outputs": [],
   "source": [
    "def play_with_data():\n",
    "    # show the data\n",
    "    trainDataFileName = \"../data/train.txt\"\n",
    "    nums = 2\n",
    "    data = load_data(trainDataFileName)[0:nums,1:]\n",
    "    [n,d]=data.shape\n",
    "    w = math.floor(math.sqrt(d))\n",
    "    data = np.reshape(data, (nums, w, w))\n",
    "    show_images(data)\n",
    "    print(\"play with data done!\")"
   ]
  },
  {
   "cell_type": "code",
   "execution_count": 8,
   "metadata": {},
   "outputs": [
    {
     "data": {
      "image/png": "[encoded data removed]",
      "text/plain": [
       "<Figure size 180x180 with 1 Axes>"
      ]
     },
     "metadata": {
      "needs_background": "light"
     },
     "output_type": "display_data"
    },
    {
     "data": {
      "image/png": "[encoded data removed]",
      "text/plain": [
       "<Figure size 180x180 with 1 Axes>"
      ]
     },
     "metadata": {
      "needs_background": "light"
     },
     "output_type": "display_data"
    },
    {
     "name": "stdout",
     "output_type": "stream",
     "text": [
      "play with data done!\n"
     ]
    }
   ],
   "source": [
    "play_with_data()"
   ]
  },
  {
   "cell_type": "markdown",
   "metadata": {},
   "source": [
    "# #2"
   ]
  },
  {
   "cell_type": "code",
   "execution_count": 39,
   "metadata": {},
   "outputs": [],
   "source": [
    "\n",
    "def show_features(data, label):\n",
    "    '''\n",
    "    This function is used for plot a 2-D scatter plot of the features and save it. \n",
    "\n",
    "    Args:\n",
    "        data: train features with shape (1561, 2). The shape represents total 1561 samples and \n",
    "        each sample has 2 features.\n",
    "        \n",
    "        label: train data's label with shape (1561,1). \n",
    "             1 for digit number 1  \n",
    "            -1 for digit number 5.\n",
    "\n",
    "    Returns:\n",
    "        Do not return any arguments, just save the 2-D scatter plot of the features you plot for your report.\n",
    "    '''\n",
    "    fig, ax = plt.subplots(figsize=(10, 5))\n",
    "    ax.scatter(data[:,0][label == 1], data[:,1][label == 1] , color='red', marker='*')\n",
    "    ax.scatter(data[:,0][label == -1], data[:,1][label == -1],color='blue', marker='+')\n",
    "    ax.spines['top'].set_visible(False)\n",
    "    ax.spines['right'].set_visible(False)\n",
    "    ax.grid(color='grey', linestyle='-', linewidth=0.25, alpha=0.5)\n",
    "    ax.set_facecolor('#f0f0f0')\n",
    "    ax.set(xlim=(-0.95, .01), ylim=(-0.9, 0.1), xlabel='Feature 1', ylabel='Feature 2', title='Homework2')"
   ]
  },
  {
   "cell_type": "code",
   "execution_count": 40,
   "metadata": {},
   "outputs": [],
   "source": [
    "def play_with_features():\n",
    "    #get data\n",
    "    traindataloc,testdataloc = \"../data/train.txt\", \"../data/test.txt\"\n",
    "    train_data,train_label = load_features(traindataloc)\n",
    "    test_data, test_label = load_features(testdataloc)\n",
    "    \n",
    "    show_features(train_data[:,1:3],train_label)\n",
    "    print(\"play with features done!\")"
   ]
  },
  {
   "cell_type": "code",
   "execution_count": 41,
   "metadata": {},
   "outputs": [
    {
     "name": "stdout",
     "output_type": "stream",
     "text": [
      "play with features done!\n"
     ]
    },
    {
     "data": {
      "image/png": "[encoded data removed]",
      "text/plain": [
       "<Figure size 720x360 with 1 Axes>"
      ]
     },
     "metadata": {
      "needs_background": "light"
     },
     "output_type": "display_data"
    }
   ],
   "source": [
    "play_with_features()"
   ]
  },
  {
   "cell_type": "markdown",
   "metadata": {
    "collapsed": true
   },
   "source": [
    "# #3"
   ]
  },
  {
   "cell_type": "code",
   "execution_count": 12,
   "metadata": {},
   "outputs": [],
   "source": [
    "def sign(x):\n",
    "    return 1 if x > 0 else -1"
   ]
  },
  {
   "cell_type": "code",
   "execution_count": 13,
   "metadata": {},
   "outputs": [],
   "source": [
    "def accuracy_perceptron(data, label, w):\n",
    "    n, _ = data.shape\n",
    "    mistakes = 0\n",
    "    \n",
    "    for i in range(n):\n",
    "        if(sign(np.dot(data[i,:],np.transpose(w))) != label[i]):\n",
    "            mistakes += 1\n",
    "    return (n-mistakes)/n"
   ]
  },
  {
   "cell_type": "code",
   "execution_count": 14,
   "metadata": {},
   "outputs": [],
   "source": [
    "def perceptron(data, label, max_iter, learning_rate):\n",
    "    '''\n",
    "    The perceptron classifier function.\n",
    "\n",
    "    Args:\n",
    "    data: train data with shape (1561, 3), which means 1561 samples and \n",
    "          each sample has 3 features.(1, symmetry, average internsity)\n",
    "          \n",
    "    label: train data's label with shape (1561,1). \n",
    "           1 for digit number 1 and -1 for digit number 5.\n",
    "           \n",
    "    max_iter: max iteration numbers\n",
    "    \n",
    "    learning_rate: learning rate for weight update\n",
    "\n",
    "    Returns:\n",
    "        w: the seperater with shape (1, 3). You must initilize it with w = np.zeros((1,d))\n",
    "    '''\n",
    "    w = np.zeros((1,len(data[0]))) \n",
    "    \n",
    "    for t in range(max_iter):\n",
    "        for i, x in enumerate(data):\n",
    "            prediction = 1.0 if np.dot(w,data[i]) >= 0.0 else -1.0 \n",
    "            if(prediction != label[i]):\n",
    "                w = w + (learning_rate * label[i] * data[i])\n",
    "    return w\n",
    "            \n"
   ]
  },
  {
   "cell_type": "code",
   "execution_count": 15,
   "metadata": {},
   "outputs": [],
   "source": [
    "def test_perceptron(max_iter, learning_rate):\n",
    "    #get data\n",
    "    traindataloc,testdataloc = \"../data/train.txt\", \"../data/test.txt\"\n",
    "    train_data,train_label = load_features(traindataloc)\n",
    "    test_data, test_label = load_features(testdataloc)\n",
    "    \n",
    "    #train perceptron\n",
    "    w = perceptron(train_data, train_label, max_iter, learning_rate)\n",
    "    train_acc = accuracy_perceptron(train_data, train_label, w)\n",
    "   \n",
    "    #test perceptron model\n",
    "    test_acc = accuracy_perceptron(test_data, test_label, w)\n",
    "    return w, train_acc, test_acc"
   ]
  },
  {
   "cell_type": "code",
   "execution_count": 16,
   "metadata": {},
   "outputs": [],
   "source": [
    "def test_accuracy():\n",
    "    max_iter = [10, 30, 50, 100, 200]\n",
    "    result_mi = [(0.973,0.948), (0.971, 0.950), (0.980, 0.962), (0.981, 0.959), (0.977, 0.948)]\n",
    "    learning_rate = [0.1, 0.2, 0.3, 0.4, 0.5]\n",
    "    result_lr = [(0.981, 0.962), (0.981, 0.962), (0.981, 0.962), (0.981, 0.962), (0.981, 0.962)]\n",
    "    for i, m_iter in enumerate(max_iter):\n",
    "        _, train_acc, test_acc = test_perceptron(m_iter, learning_rate[0])\n",
    "        print(\"Case %d train accuracy:%f  test accuracy: %f\"%(i+1, train_acc, test_acc))\n",
    "    for i, l_rate in enumerate(learning_rate):\n",
    "        _, train_acc, test_acc = test_perceptron(max_iter[4], l_rate)\n",
    "        print(\"Case %d train accuracy:%f  test accuracy: %f\"%(i+6,train_acc, test_acc))\n",
    "    print(\"accuracy test done!\")"
   ]
  },
  {
   "cell_type": "code",
   "execution_count": 17,
   "metadata": {},
   "outputs": [
    {
     "name": "stdout",
     "output_type": "stream",
     "text": [
      "Case 1 train accuracy:0.981422  test accuracy: 0.959906\n",
      "Case 2 train accuracy:0.975657  test accuracy: 0.945755\n",
      "Case 3 train accuracy:0.976297  test accuracy: 0.948113\n",
      "Case 4 train accuracy:0.975657  test accuracy: 0.945755\n",
      "Case 5 train accuracy:0.975657  test accuracy: 0.945755\n",
      "Case 6 train accuracy:0.975657  test accuracy: 0.945755\n",
      "Case 7 train accuracy:0.975657  test accuracy: 0.945755\n",
      "Case 8 train accuracy:0.975657  test accuracy: 0.945755\n",
      "Case 9 train accuracy:0.975657  test accuracy: 0.945755\n",
      "Case 10 train accuracy:0.975657  test accuracy: 0.945755\n",
      "accuracy test done!\n"
     ]
    }
   ],
   "source": [
    "test_accuracy()"
   ]
  },
  {
   "cell_type": "markdown",
   "metadata": {},
   "source": [
    "# #4"
   ]
  },
  {
   "cell_type": "code",
   "execution_count": 45,
   "metadata": {},
   "outputs": [],
   "source": [
    "def show_result(data, label, w):\n",
    "    '''\n",
    "    This function is used for plot the test data with the separators and save it.\n",
    "\n",
    "    Args:\n",
    "    data: test features with shape (424, 2). The shape represents total 424 samples and \n",
    "          each sample has 2 features.\n",
    "    label: test data's label with shape (424,1). \n",
    "           1 for digit number 1 and -1 for digit number 5.\n",
    "\n",
    "    Returns:\n",
    "    Do not return any arguments, just save the image you plot for your report.\n",
    "    '''\n",
    "    b  = w[0,0]\n",
    "    wx = w[0,1]\n",
    "    wy = w[0,2]\n",
    "    \n",
    "    x = np.linspace(-0.4,-0.2,100)\n",
    "    y = (-b-(x*wx))/wy\n",
    "    \n",
    "    fig, ax = plt.subplots(figsize=(10, 5))\n",
    "    ax.plot(x, y, '-g')\n",
    "    plt.scatter(data[:,0][label == 1], data[:,1][label == 1] , color='red', marker='*')\n",
    "    plt.scatter(data[:,0][label == -1], data[:,1][label == -1],color='blue', marker='+')\n",
    "        ax.spines['top'].set_visible(False)\n",
    "    ax.spines['right'].set_visible(False)\n",
    "    ax.grid(color='grey', linestyle='-', linewidth=0.25, alpha=0.5)\n",
    "    ax.set_facecolor('#f0f0f0')\n",
    "    ax.set(xlim=(-0.95, .01), ylim=(-0.9, 0.1), xlabel='Feature 1', ylabel='Feature 2', title='Homework2')\n",
    "    plt.xlim(-0.9, 0.1)\n",
    "    plt.ylim(-1, 0.5);"
   ]
  },
  {
   "cell_type": "code",
   "execution_count": 46,
   "metadata": {},
   "outputs": [],
   "source": [
    "def play_with_result():\n",
    "    traindataloc,testdataloc = \"../data/train.txt\", \"../data/test.txt\"\n",
    "    train_data,train_label = load_features(traindataloc)\n",
    "    test_data, test_label = load_features(testdataloc)\n",
    "    max_iter = 10\n",
    "    learning_rate = 0.5\n",
    "    w = perceptron(train_data, train_label, max_iter, learning_rate)\n",
    "    show_result(test_data[:,1:3], test_label, w)\n",
    "    print(\"play with result done!\")"
   ]
  },
  {
   "cell_type": "code",
   "execution_count": 47,
   "metadata": {},
   "outputs": [
    {
     "name": "stdout",
     "output_type": "stream",
     "text": [
      "play with result done!\n"
     ]
    },
    {
     "data": {
      "image/png": "[encoded data removed]",
      "text/plain": [
       "<Figure size 720x360 with 1 Axes>"
      ]
     },
     "metadata": {
      "needs_background": "light"
     },
     "output_type": "display_data"
    }
   ],
   "source": [
    "play_with_result()"
   ]
  },
  {
   "cell_type": "code",
   "execution_count": null,
   "metadata": {},
   "outputs": [],
   "source": []
  },
  {
   "cell_type": "code",
   "execution_count": null,
   "metadata": {},
   "outputs": [],
   "source": []
  },
  {
   "cell_type": "code",
   "execution_count": null,
   "metadata": {},
   "outputs": [],
   "source": [
    "    "
   ]
  },
  {
   "cell_type": "code",
   "execution_count": null,
   "metadata": {},
   "outputs": [],
   "source": []
  },
  {
   "cell_type": "code",
   "execution_count": null,
   "metadata": {},
   "outputs": [],
   "source": []
  },
  {
   "cell_type": "code",
   "execution_count": null,
   "metadata": {},
   "outputs": [],
   "source": []
  },
  {
   "cell_type": "code",
   "execution_count": null,
   "metadata": {},
   "outputs": [],
   "source": []
  },
  {
   "cell_type": "code",
   "execution_count": null,
   "metadata": {},
   "outputs": [],
   "source": []
  },
  {
   "cell_type": "code",
   "execution_count": null,
   "metadata": {},
   "outputs": [],
   "source": []
  },
  {
   "cell_type": "code",
   "execution_count": null,
   "metadata": {},
   "outputs": [],
   "source": []
  }
 ],
 "metadata": {
  "anaconda-cloud": {},
  "kernelspec": {
   "display_name": "Python 3",
   "language": "python",
   "name": "python3"
  },
  "language_info": {
   "codemirror_mode": {
    "name": "ipython",
    "version": 3
   },
   "file_extension": ".py",
   "mimetype": "text/x-python",
   "name": "python",
   "nbconvert_exporter": "python",
   "pygments_lexer": "ipython3",
   "version": "3.7.3"
  }
 },
 "nbformat": 4,
 "nbformat_minor": 1
}
